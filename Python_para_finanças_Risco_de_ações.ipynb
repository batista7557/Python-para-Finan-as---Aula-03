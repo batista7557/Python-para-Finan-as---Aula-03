{
  "nbformat": 4,
  "nbformat_minor": 0,
  "metadata": {
    "colab": {
      "provenance": [],
      "authorship_tag": "ABX9TyN/TWvE+27xvH4BIlfFVaVa",
      "include_colab_link": true
    },
    "kernelspec": {
      "name": "python3",
      "display_name": "Python 3"
    },
    "language_info": {
      "name": "python"
    }
  },
  "cells": [
    {
      "cell_type": "markdown",
      "metadata": {
        "id": "view-in-github",
        "colab_type": "text"
      },
      "source": [
        "<a href=\"https://colab.research.google.com/github/batista7557/Python-para-Finan-as---Aula-03/blob/main/Python_para_finan%C3%A7as_Risco_de_a%C3%A7%C3%B5es.ipynb\" target=\"_parent\"><img src=\"https://colab.research.google.com/assets/colab-badge.svg\" alt=\"Open In Colab\"/></a>"
      ]
    },
    {
      "cell_type": "markdown",
      "source": [
        "Python para finanças - Risco de ações"
      ],
      "metadata": {
        "id": "OdAyx5IXKoIy"
      }
    },
    {
      "cell_type": "markdown",
      "source": [
        "Importação das bibliotecas e base de dados"
      ],
      "metadata": {
        "id": "uUiBCkfGKsBx"
      }
    },
    {
      "cell_type": "code",
      "source": [
        "import pandas as pd\n",
        "import numpy as np\n",
        "import math\n",
        "import matplotlib.pyplot as plt\n",
        "import seaborn as sns\n",
        "from scipy import stats"
      ],
      "metadata": {
        "id": "umJMgC2oKw7A"
      },
      "execution_count": null,
      "outputs": []
    },
    {
      "cell_type": "code",
      "source": [
        "dataset = pd.read_csv('acoes.csv')\n",
        "dataset"
      ],
      "metadata": {
        "colab": {
          "base_uri": "https://localhost:8080/",
          "height": 424
        },
        "id": "7ZqWxu_sgI58",
        "outputId": "69526506-a7c7-4c73-9adf-e8b76bd8b9b7"
      },
      "execution_count": null,
      "outputs": [
        {
          "output_type": "execute_result",
          "data": {
            "text/plain": [
              "            Date    GOL    CVC       WEGE      MGLU       TOTS        BOVA\n",
              "0     2015-01-02  14.99  15.20   5.923076  0.232812  11.910702   47.259998\n",
              "1     2015-01-05  14.85  15.00   5.963461  0.237187  11.544731   46.320000\n",
              "2     2015-01-06  15.21  14.80   5.875000  0.234062  10.822770   46.580002\n",
              "3     2015-01-07  14.55  14.67   5.807692  0.241875  10.746248   48.150002\n",
              "4     2015-01-08  14.27  14.15   5.905769  0.240000  10.995774   48.509998\n",
              "...          ...    ...    ...        ...       ...        ...         ...\n",
              "1948  2022-11-03   9.93   7.44  40.200001  4.870000  32.330002  113.099998\n",
              "1949  2022-11-04   9.95   7.23  40.799999  4.830000  32.410000  114.000000\n",
              "1950  2022-11-07   9.35   6.70  40.900002  4.540000  31.830000  111.220001\n",
              "1951  2022-11-08   9.37   6.65  40.799999  4.630000  32.099998  112.300003\n",
              "1952  2022-11-09   9.29   6.60  40.599998  4.470000  33.389999  109.750000\n",
              "\n",
              "[1953 rows x 7 columns]"
            ],
            "text/html": [
              "\n",
              "  <div id=\"df-71e6436b-7cef-46c5-81ee-f0ebfb022edc\">\n",
              "    <div class=\"colab-df-container\">\n",
              "      <div>\n",
              "<style scoped>\n",
              "    .dataframe tbody tr th:only-of-type {\n",
              "        vertical-align: middle;\n",
              "    }\n",
              "\n",
              "    .dataframe tbody tr th {\n",
              "        vertical-align: top;\n",
              "    }\n",
              "\n",
              "    .dataframe thead th {\n",
              "        text-align: right;\n",
              "    }\n",
              "</style>\n",
              "<table border=\"1\" class=\"dataframe\">\n",
              "  <thead>\n",
              "    <tr style=\"text-align: right;\">\n",
              "      <th></th>\n",
              "      <th>Date</th>\n",
              "      <th>GOL</th>\n",
              "      <th>CVC</th>\n",
              "      <th>WEGE</th>\n",
              "      <th>MGLU</th>\n",
              "      <th>TOTS</th>\n",
              "      <th>BOVA</th>\n",
              "    </tr>\n",
              "  </thead>\n",
              "  <tbody>\n",
              "    <tr>\n",
              "      <th>0</th>\n",
              "      <td>2015-01-02</td>\n",
              "      <td>14.99</td>\n",
              "      <td>15.20</td>\n",
              "      <td>5.923076</td>\n",
              "      <td>0.232812</td>\n",
              "      <td>11.910702</td>\n",
              "      <td>47.259998</td>\n",
              "    </tr>\n",
              "    <tr>\n",
              "      <th>1</th>\n",
              "      <td>2015-01-05</td>\n",
              "      <td>14.85</td>\n",
              "      <td>15.00</td>\n",
              "      <td>5.963461</td>\n",
              "      <td>0.237187</td>\n",
              "      <td>11.544731</td>\n",
              "      <td>46.320000</td>\n",
              "    </tr>\n",
              "    <tr>\n",
              "      <th>2</th>\n",
              "      <td>2015-01-06</td>\n",
              "      <td>15.21</td>\n",
              "      <td>14.80</td>\n",
              "      <td>5.875000</td>\n",
              "      <td>0.234062</td>\n",
              "      <td>10.822770</td>\n",
              "      <td>46.580002</td>\n",
              "    </tr>\n",
              "    <tr>\n",
              "      <th>3</th>\n",
              "      <td>2015-01-07</td>\n",
              "      <td>14.55</td>\n",
              "      <td>14.67</td>\n",
              "      <td>5.807692</td>\n",
              "      <td>0.241875</td>\n",
              "      <td>10.746248</td>\n",
              "      <td>48.150002</td>\n",
              "    </tr>\n",
              "    <tr>\n",
              "      <th>4</th>\n",
              "      <td>2015-01-08</td>\n",
              "      <td>14.27</td>\n",
              "      <td>14.15</td>\n",
              "      <td>5.905769</td>\n",
              "      <td>0.240000</td>\n",
              "      <td>10.995774</td>\n",
              "      <td>48.509998</td>\n",
              "    </tr>\n",
              "    <tr>\n",
              "      <th>...</th>\n",
              "      <td>...</td>\n",
              "      <td>...</td>\n",
              "      <td>...</td>\n",
              "      <td>...</td>\n",
              "      <td>...</td>\n",
              "      <td>...</td>\n",
              "      <td>...</td>\n",
              "    </tr>\n",
              "    <tr>\n",
              "      <th>1948</th>\n",
              "      <td>2022-11-03</td>\n",
              "      <td>9.93</td>\n",
              "      <td>7.44</td>\n",
              "      <td>40.200001</td>\n",
              "      <td>4.870000</td>\n",
              "      <td>32.330002</td>\n",
              "      <td>113.099998</td>\n",
              "    </tr>\n",
              "    <tr>\n",
              "      <th>1949</th>\n",
              "      <td>2022-11-04</td>\n",
              "      <td>9.95</td>\n",
              "      <td>7.23</td>\n",
              "      <td>40.799999</td>\n",
              "      <td>4.830000</td>\n",
              "      <td>32.410000</td>\n",
              "      <td>114.000000</td>\n",
              "    </tr>\n",
              "    <tr>\n",
              "      <th>1950</th>\n",
              "      <td>2022-11-07</td>\n",
              "      <td>9.35</td>\n",
              "      <td>6.70</td>\n",
              "      <td>40.900002</td>\n",
              "      <td>4.540000</td>\n",
              "      <td>31.830000</td>\n",
              "      <td>111.220001</td>\n",
              "    </tr>\n",
              "    <tr>\n",
              "      <th>1951</th>\n",
              "      <td>2022-11-08</td>\n",
              "      <td>9.37</td>\n",
              "      <td>6.65</td>\n",
              "      <td>40.799999</td>\n",
              "      <td>4.630000</td>\n",
              "      <td>32.099998</td>\n",
              "      <td>112.300003</td>\n",
              "    </tr>\n",
              "    <tr>\n",
              "      <th>1952</th>\n",
              "      <td>2022-11-09</td>\n",
              "      <td>9.29</td>\n",
              "      <td>6.60</td>\n",
              "      <td>40.599998</td>\n",
              "      <td>4.470000</td>\n",
              "      <td>33.389999</td>\n",
              "      <td>109.750000</td>\n",
              "    </tr>\n",
              "  </tbody>\n",
              "</table>\n",
              "<p>1953 rows × 7 columns</p>\n",
              "</div>\n",
              "      <button class=\"colab-df-convert\" onclick=\"convertToInteractive('df-71e6436b-7cef-46c5-81ee-f0ebfb022edc')\"\n",
              "              title=\"Convert this dataframe to an interactive table.\"\n",
              "              style=\"display:none;\">\n",
              "        \n",
              "  <svg xmlns=\"http://www.w3.org/2000/svg\" height=\"24px\"viewBox=\"0 0 24 24\"\n",
              "       width=\"24px\">\n",
              "    <path d=\"M0 0h24v24H0V0z\" fill=\"none\"/>\n",
              "    <path d=\"M18.56 5.44l.94 2.06.94-2.06 2.06-.94-2.06-.94-.94-2.06-.94 2.06-2.06.94zm-11 1L8.5 8.5l.94-2.06 2.06-.94-2.06-.94L8.5 2.5l-.94 2.06-2.06.94zm10 10l.94 2.06.94-2.06 2.06-.94-2.06-.94-.94-2.06-.94 2.06-2.06.94z\"/><path d=\"M17.41 7.96l-1.37-1.37c-.4-.4-.92-.59-1.43-.59-.52 0-1.04.2-1.43.59L10.3 9.45l-7.72 7.72c-.78.78-.78 2.05 0 2.83L4 21.41c.39.39.9.59 1.41.59.51 0 1.02-.2 1.41-.59l7.78-7.78 2.81-2.81c.8-.78.8-2.07 0-2.86zM5.41 20L4 18.59l7.72-7.72 1.47 1.35L5.41 20z\"/>\n",
              "  </svg>\n",
              "      </button>\n",
              "      \n",
              "  <style>\n",
              "    .colab-df-container {\n",
              "      display:flex;\n",
              "      flex-wrap:wrap;\n",
              "      gap: 12px;\n",
              "    }\n",
              "\n",
              "    .colab-df-convert {\n",
              "      background-color: #E8F0FE;\n",
              "      border: none;\n",
              "      border-radius: 50%;\n",
              "      cursor: pointer;\n",
              "      display: none;\n",
              "      fill: #1967D2;\n",
              "      height: 32px;\n",
              "      padding: 0 0 0 0;\n",
              "      width: 32px;\n",
              "    }\n",
              "\n",
              "    .colab-df-convert:hover {\n",
              "      background-color: #E2EBFA;\n",
              "      box-shadow: 0px 1px 2px rgba(60, 64, 67, 0.3), 0px 1px 3px 1px rgba(60, 64, 67, 0.15);\n",
              "      fill: #174EA6;\n",
              "    }\n",
              "\n",
              "    [theme=dark] .colab-df-convert {\n",
              "      background-color: #3B4455;\n",
              "      fill: #D2E3FC;\n",
              "    }\n",
              "\n",
              "    [theme=dark] .colab-df-convert:hover {\n",
              "      background-color: #434B5C;\n",
              "      box-shadow: 0px 1px 3px 1px rgba(0, 0, 0, 0.15);\n",
              "      filter: drop-shadow(0px 1px 2px rgba(0, 0, 0, 0.3));\n",
              "      fill: #FFFFFF;\n",
              "    }\n",
              "  </style>\n",
              "\n",
              "      <script>\n",
              "        const buttonEl =\n",
              "          document.querySelector('#df-71e6436b-7cef-46c5-81ee-f0ebfb022edc button.colab-df-convert');\n",
              "        buttonEl.style.display =\n",
              "          google.colab.kernel.accessAllowed ? 'block' : 'none';\n",
              "\n",
              "        async function convertToInteractive(key) {\n",
              "          const element = document.querySelector('#df-71e6436b-7cef-46c5-81ee-f0ebfb022edc');\n",
              "          const dataTable =\n",
              "            await google.colab.kernel.invokeFunction('convertToInteractive',\n",
              "                                                     [key], {});\n",
              "          if (!dataTable) return;\n",
              "\n",
              "          const docLinkHtml = 'Like what you see? Visit the ' +\n",
              "            '<a target=\"_blank\" href=https://colab.research.google.com/notebooks/data_table.ipynb>data table notebook</a>'\n",
              "            + ' to learn more about interactive tables.';\n",
              "          element.innerHTML = '';\n",
              "          dataTable['output_type'] = 'display_data';\n",
              "          await google.colab.output.renderOutput(dataTable, element);\n",
              "          const docLink = document.createElement('div');\n",
              "          docLink.innerHTML = docLinkHtml;\n",
              "          element.appendChild(docLink);\n",
              "        }\n",
              "      </script>\n",
              "    </div>\n",
              "  </div>\n",
              "  "
            ]
          },
          "metadata": {},
          "execution_count": 2
        }
      ]
    },
    {
      "cell_type": "code",
      "source": [
        "dataset.describe()"
      ],
      "metadata": {
        "colab": {
          "base_uri": "https://localhost:8080/",
          "height": 344
        },
        "id": "6EMkTcHigo3_",
        "outputId": "ee121299-5788-4cac-f68f-160da56d50ab"
      },
      "execution_count": null,
      "outputs": [
        {
          "output_type": "execute_result",
          "data": {
            "text/plain": [
              "               GOL          CVC         WEGE         MGLU         TOTS  \\\n",
              "count  1953.000000  1953.000000  1953.000000  1953.000000  1953.000000   \n",
              "mean     15.447046    28.456905    16.563155     6.823154    17.700717   \n",
              "std       9.358180    16.084516    12.250526     7.686339     9.365118   \n",
              "min       1.160000     6.090000     4.942307     0.030585     7.156402   \n",
              "25%       7.960000    15.420000     6.719230     0.405273    10.044249   \n",
              "50%      14.200000    22.200001     9.325000     4.030312    12.226769   \n",
              "75%      21.200001    43.299999    29.520000    10.542500    26.650000   \n",
              "max      43.790001    64.800003    46.105000    27.450001    40.599998   \n",
              "\n",
              "              BOVA  \n",
              "count  1953.000000  \n",
              "mean     81.424466  \n",
              "std      23.963916  \n",
              "min      36.450001  \n",
              "25%      59.849998  \n",
              "50%      82.449997  \n",
              "75%     102.139999  \n",
              "max     125.750000  "
            ],
            "text/html": [
              "\n",
              "  <div id=\"df-b1bb9d79-47fe-4e9e-ba5c-9b4806744af0\">\n",
              "    <div class=\"colab-df-container\">\n",
              "      <div>\n",
              "<style scoped>\n",
              "    .dataframe tbody tr th:only-of-type {\n",
              "        vertical-align: middle;\n",
              "    }\n",
              "\n",
              "    .dataframe tbody tr th {\n",
              "        vertical-align: top;\n",
              "    }\n",
              "\n",
              "    .dataframe thead th {\n",
              "        text-align: right;\n",
              "    }\n",
              "</style>\n",
              "<table border=\"1\" class=\"dataframe\">\n",
              "  <thead>\n",
              "    <tr style=\"text-align: right;\">\n",
              "      <th></th>\n",
              "      <th>GOL</th>\n",
              "      <th>CVC</th>\n",
              "      <th>WEGE</th>\n",
              "      <th>MGLU</th>\n",
              "      <th>TOTS</th>\n",
              "      <th>BOVA</th>\n",
              "    </tr>\n",
              "  </thead>\n",
              "  <tbody>\n",
              "    <tr>\n",
              "      <th>count</th>\n",
              "      <td>1953.000000</td>\n",
              "      <td>1953.000000</td>\n",
              "      <td>1953.000000</td>\n",
              "      <td>1953.000000</td>\n",
              "      <td>1953.000000</td>\n",
              "      <td>1953.000000</td>\n",
              "    </tr>\n",
              "    <tr>\n",
              "      <th>mean</th>\n",
              "      <td>15.447046</td>\n",
              "      <td>28.456905</td>\n",
              "      <td>16.563155</td>\n",
              "      <td>6.823154</td>\n",
              "      <td>17.700717</td>\n",
              "      <td>81.424466</td>\n",
              "    </tr>\n",
              "    <tr>\n",
              "      <th>std</th>\n",
              "      <td>9.358180</td>\n",
              "      <td>16.084516</td>\n",
              "      <td>12.250526</td>\n",
              "      <td>7.686339</td>\n",
              "      <td>9.365118</td>\n",
              "      <td>23.963916</td>\n",
              "    </tr>\n",
              "    <tr>\n",
              "      <th>min</th>\n",
              "      <td>1.160000</td>\n",
              "      <td>6.090000</td>\n",
              "      <td>4.942307</td>\n",
              "      <td>0.030585</td>\n",
              "      <td>7.156402</td>\n",
              "      <td>36.450001</td>\n",
              "    </tr>\n",
              "    <tr>\n",
              "      <th>25%</th>\n",
              "      <td>7.960000</td>\n",
              "      <td>15.420000</td>\n",
              "      <td>6.719230</td>\n",
              "      <td>0.405273</td>\n",
              "      <td>10.044249</td>\n",
              "      <td>59.849998</td>\n",
              "    </tr>\n",
              "    <tr>\n",
              "      <th>50%</th>\n",
              "      <td>14.200000</td>\n",
              "      <td>22.200001</td>\n",
              "      <td>9.325000</td>\n",
              "      <td>4.030312</td>\n",
              "      <td>12.226769</td>\n",
              "      <td>82.449997</td>\n",
              "    </tr>\n",
              "    <tr>\n",
              "      <th>75%</th>\n",
              "      <td>21.200001</td>\n",
              "      <td>43.299999</td>\n",
              "      <td>29.520000</td>\n",
              "      <td>10.542500</td>\n",
              "      <td>26.650000</td>\n",
              "      <td>102.139999</td>\n",
              "    </tr>\n",
              "    <tr>\n",
              "      <th>max</th>\n",
              "      <td>43.790001</td>\n",
              "      <td>64.800003</td>\n",
              "      <td>46.105000</td>\n",
              "      <td>27.450001</td>\n",
              "      <td>40.599998</td>\n",
              "      <td>125.750000</td>\n",
              "    </tr>\n",
              "  </tbody>\n",
              "</table>\n",
              "</div>\n",
              "      <button class=\"colab-df-convert\" onclick=\"convertToInteractive('df-b1bb9d79-47fe-4e9e-ba5c-9b4806744af0')\"\n",
              "              title=\"Convert this dataframe to an interactive table.\"\n",
              "              style=\"display:none;\">\n",
              "        \n",
              "  <svg xmlns=\"http://www.w3.org/2000/svg\" height=\"24px\"viewBox=\"0 0 24 24\"\n",
              "       width=\"24px\">\n",
              "    <path d=\"M0 0h24v24H0V0z\" fill=\"none\"/>\n",
              "    <path d=\"M18.56 5.44l.94 2.06.94-2.06 2.06-.94-2.06-.94-.94-2.06-.94 2.06-2.06.94zm-11 1L8.5 8.5l.94-2.06 2.06-.94-2.06-.94L8.5 2.5l-.94 2.06-2.06.94zm10 10l.94 2.06.94-2.06 2.06-.94-2.06-.94-.94-2.06-.94 2.06-2.06.94z\"/><path d=\"M17.41 7.96l-1.37-1.37c-.4-.4-.92-.59-1.43-.59-.52 0-1.04.2-1.43.59L10.3 9.45l-7.72 7.72c-.78.78-.78 2.05 0 2.83L4 21.41c.39.39.9.59 1.41.59.51 0 1.02-.2 1.41-.59l7.78-7.78 2.81-2.81c.8-.78.8-2.07 0-2.86zM5.41 20L4 18.59l7.72-7.72 1.47 1.35L5.41 20z\"/>\n",
              "  </svg>\n",
              "      </button>\n",
              "      \n",
              "  <style>\n",
              "    .colab-df-container {\n",
              "      display:flex;\n",
              "      flex-wrap:wrap;\n",
              "      gap: 12px;\n",
              "    }\n",
              "\n",
              "    .colab-df-convert {\n",
              "      background-color: #E8F0FE;\n",
              "      border: none;\n",
              "      border-radius: 50%;\n",
              "      cursor: pointer;\n",
              "      display: none;\n",
              "      fill: #1967D2;\n",
              "      height: 32px;\n",
              "      padding: 0 0 0 0;\n",
              "      width: 32px;\n",
              "    }\n",
              "\n",
              "    .colab-df-convert:hover {\n",
              "      background-color: #E2EBFA;\n",
              "      box-shadow: 0px 1px 2px rgba(60, 64, 67, 0.3), 0px 1px 3px 1px rgba(60, 64, 67, 0.15);\n",
              "      fill: #174EA6;\n",
              "    }\n",
              "\n",
              "    [theme=dark] .colab-df-convert {\n",
              "      background-color: #3B4455;\n",
              "      fill: #D2E3FC;\n",
              "    }\n",
              "\n",
              "    [theme=dark] .colab-df-convert:hover {\n",
              "      background-color: #434B5C;\n",
              "      box-shadow: 0px 1px 3px 1px rgba(0, 0, 0, 0.15);\n",
              "      filter: drop-shadow(0px 1px 2px rgba(0, 0, 0, 0.3));\n",
              "      fill: #FFFFFF;\n",
              "    }\n",
              "  </style>\n",
              "\n",
              "      <script>\n",
              "        const buttonEl =\n",
              "          document.querySelector('#df-b1bb9d79-47fe-4e9e-ba5c-9b4806744af0 button.colab-df-convert');\n",
              "        buttonEl.style.display =\n",
              "          google.colab.kernel.accessAllowed ? 'block' : 'none';\n",
              "\n",
              "        async function convertToInteractive(key) {\n",
              "          const element = document.querySelector('#df-b1bb9d79-47fe-4e9e-ba5c-9b4806744af0');\n",
              "          const dataTable =\n",
              "            await google.colab.kernel.invokeFunction('convertToInteractive',\n",
              "                                                     [key], {});\n",
              "          if (!dataTable) return;\n",
              "\n",
              "          const docLinkHtml = 'Like what you see? Visit the ' +\n",
              "            '<a target=\"_blank\" href=https://colab.research.google.com/notebooks/data_table.ipynb>data table notebook</a>'\n",
              "            + ' to learn more about interactive tables.';\n",
              "          element.innerHTML = '';\n",
              "          dataTable['output_type'] = 'display_data';\n",
              "          await google.colab.output.renderOutput(dataTable, element);\n",
              "          const docLink = document.createElement('div');\n",
              "          docLink.innerHTML = docLinkHtml;\n",
              "          element.appendChild(docLink);\n",
              "        }\n",
              "      </script>\n",
              "    </div>\n",
              "  </div>\n",
              "  "
            ]
          },
          "metadata": {},
          "execution_count": 3
        }
      ]
    },
    {
      "cell_type": "markdown",
      "source": [
        "Cálculo dos retornos anuais"
      ],
      "metadata": {
        "id": "YZ9IHu7Tgi8t"
      }
    },
    {
      "cell_type": "markdown",
      "source": [
        "2015"
      ],
      "metadata": {
        "id": "r0ySqPx-glsM"
      }
    },
    {
      "cell_type": "code",
      "source": [
        "dataset['CVC'][dataset['Date'] == '2015-01-02'], dataset['CVC'][dataset['Date'] == '2015-12-30']\n",
        "#No início era 15.2 no final era 13.5"
      ],
      "metadata": {
        "colab": {
          "base_uri": "https://localhost:8080/"
        },
        "id": "2MQ4SyQZg1fc",
        "outputId": "a9ab83c5-9111-4dc1-d0dd-210588ee1b7c"
      },
      "execution_count": null,
      "outputs": [
        {
          "output_type": "execute_result",
          "data": {
            "text/plain": [
              "(0    15.2\n",
              " Name: CVC, dtype: float64, 245    13.5\n",
              " Name: CVC, dtype: float64)"
            ]
          },
          "metadata": {},
          "execution_count": 4
        }
      ]
    },
    {
      "cell_type": "code",
      "source": [
        "#Taxa logaritimica\n",
        "np.log(13.5 / 15.2) * 100"
      ],
      "metadata": {
        "colab": {
          "base_uri": "https://localhost:8080/"
        },
        "id": "JHsywLj9hdEM",
        "outputId": "b5cf96ed-8bc5-4c7a-ae18-b28acb70ade6"
      },
      "execution_count": null,
      "outputs": [
        {
          "output_type": "execute_result",
          "data": {
            "text/plain": [
              "-11.86057424078469"
            ]
          },
          "metadata": {},
          "execution_count": 5
        }
      ]
    },
    {
      "cell_type": "code",
      "source": [
        "dataset['MGLU'][dataset['Date'] == '2015-01-02'], dataset['MGLU'][dataset['Date'] == '2015-12-30']"
      ],
      "metadata": {
        "colab": {
          "base_uri": "https://localhost:8080/"
        },
        "id": "xxDBFWGEhpXm",
        "outputId": "06255b1e-0b04-4aed-a674-4e5d9883b297"
      },
      "execution_count": null,
      "outputs": [
        {
          "output_type": "execute_result",
          "data": {
            "text/plain": [
              "(0    0.232812\n",
              " Name: MGLU, dtype: float64, 245    0.068945\n",
              " Name: MGLU, dtype: float64)"
            ]
          },
          "metadata": {},
          "execution_count": 6
        }
      ]
    },
    {
      "cell_type": "code",
      "source": [
        "#Taxa logaritimica\n",
        "np.log(0.07 / 0.02) * 100"
      ],
      "metadata": {
        "colab": {
          "base_uri": "https://localhost:8080/"
        },
        "id": "AAsHMuSWh-8I",
        "outputId": "96d7683f-1b74-4859-90d3-06b994c797f4"
      },
      "execution_count": null,
      "outputs": [
        {
          "output_type": "execute_result",
          "data": {
            "text/plain": [
              "125.2762968495368"
            ]
          },
          "metadata": {},
          "execution_count": 7
        }
      ]
    },
    {
      "cell_type": "markdown",
      "source": [
        "2016"
      ],
      "metadata": {
        "id": "MchEregkiQ7g"
      }
    },
    {
      "cell_type": "code",
      "source": [
        "dataset['CVC'][dataset['Date'] == '2016-01-04'], dataset['CVC'][dataset['Date'] == '2016-12-29']\n"
      ],
      "metadata": {
        "colab": {
          "base_uri": "https://localhost:8080/"
        },
        "id": "J7KeUk-xiSCt",
        "outputId": "2617eca2-107c-492b-ea3f-51303e3fcaa2"
      },
      "execution_count": null,
      "outputs": [
        {
          "output_type": "execute_result",
          "data": {
            "text/plain": [
              "(246    12.53\n",
              " Name: CVC, dtype: float64, 494    23.700001\n",
              " Name: CVC, dtype: float64)"
            ]
          },
          "metadata": {},
          "execution_count": 8
        }
      ]
    },
    {
      "cell_type": "code",
      "source": [
        "#Taxa logaritimica\n",
        "np.log(23.7 / 12.5) * 100"
      ],
      "metadata": {
        "colab": {
          "base_uri": "https://localhost:8080/"
        },
        "id": "c4BRmybMiphv",
        "outputId": "49e72b4e-f991-4100-a7dd-bad6194135a7"
      },
      "execution_count": null,
      "outputs": [
        {
          "output_type": "execute_result",
          "data": {
            "text/plain": [
              "63.974640383283"
            ]
          },
          "metadata": {},
          "execution_count": 9
        }
      ]
    },
    {
      "cell_type": "code",
      "source": [
        "dataset['MGLU'][dataset['Date'] == '2016-01-04'], dataset['MGLU'][dataset['Date'] == '2016-12-29']"
      ],
      "metadata": {
        "id": "I5eiHtb4ixKT"
      },
      "execution_count": null,
      "outputs": []
    },
    {
      "cell_type": "code",
      "source": [
        "#Taxa logaritimica\n",
        "np.log(0.4 / 0.07) * 100"
      ],
      "metadata": {
        "colab": {
          "base_uri": "https://localhost:8080/"
        },
        "id": "RXEmXy5Ji258",
        "outputId": "067385d6-38ea-4cf1-8fd1-2959553daf7d"
      },
      "execution_count": null,
      "outputs": [
        {
          "output_type": "execute_result",
          "data": {
            "text/plain": [
              "174.2969305058623"
            ]
          },
          "metadata": {},
          "execution_count": 14
        }
      ]
    },
    {
      "cell_type": "markdown",
      "source": [
        "2017"
      ],
      "metadata": {
        "id": "UFnB6atikGVN"
      }
    },
    {
      "cell_type": "code",
      "source": [
        "dataset['CVC'][dataset['Date'] == '2017-01-04'], dataset['CVC'][dataset['Date'] == '2017-12-29']"
      ],
      "metadata": {
        "colab": {
          "base_uri": "https://localhost:8080/"
        },
        "id": "ewVh25GykIx4",
        "outputId": "c196bc7b-e7e5-43c9-fbbd-ff646ee3a3e2"
      },
      "execution_count": null,
      "outputs": [
        {
          "output_type": "execute_result",
          "data": {
            "text/plain": [
              "(497    24.459999\n",
              " Name: CVC, dtype: float64, 748    48.5\n",
              " Name: CVC, dtype: float64)"
            ]
          },
          "metadata": {},
          "execution_count": 10
        }
      ]
    },
    {
      "cell_type": "code",
      "source": [
        "#Taxa logaritimica\n",
        "np.log(48.5 / 24.5) * 100"
      ],
      "metadata": {
        "colab": {
          "base_uri": "https://localhost:8080/"
        },
        "id": "dZBriw4KkOjD",
        "outputId": "eb15f16c-37cd-4353-e374-800f53774232"
      },
      "execution_count": null,
      "outputs": [
        {
          "output_type": "execute_result",
          "data": {
            "text/plain": [
              "68.28906803927562"
            ]
          },
          "metadata": {},
          "execution_count": 11
        }
      ]
    },
    {
      "cell_type": "code",
      "source": [
        "dataset['MGLU'][dataset['Date'] == '2017-01-04'], dataset['MGLU'][dataset['Date'] == '2017-12-29']"
      ],
      "metadata": {
        "colab": {
          "base_uri": "https://localhost:8080/"
        },
        "id": "siI3Y7rukTQc",
        "outputId": "ea151e73-79fa-48e5-8d13-1bdb63519dab"
      },
      "execution_count": null,
      "outputs": [
        {
          "output_type": "execute_result",
          "data": {
            "text/plain": [
              "(497    0.375\n",
              " Name: MGLU, dtype: float64, 748    2.506875\n",
              " Name: MGLU, dtype: float64)"
            ]
          },
          "metadata": {},
          "execution_count": 12
        }
      ]
    },
    {
      "cell_type": "code",
      "source": [
        "#Taxa logaritimica\n",
        "np.log(2.5 / 0.375) * 100"
      ],
      "metadata": {
        "colab": {
          "base_uri": "https://localhost:8080/"
        },
        "id": "IpX4zLDNkYNM",
        "outputId": "1c6b741b-2010-4b43-c088-e0c0f14d11cc"
      },
      "execution_count": null,
      "outputs": [
        {
          "output_type": "execute_result",
          "data": {
            "text/plain": [
              "189.71199848858814"
            ]
          },
          "metadata": {},
          "execution_count": 13
        }
      ]
    },
    {
      "cell_type": "markdown",
      "source": [
        "2018"
      ],
      "metadata": {
        "id": "ZBnPECjQkeSc"
      }
    },
    {
      "cell_type": "code",
      "source": [
        "dataset['CVC'][dataset['Date'] == '2018-01-05'], dataset['CVC'][dataset['Date'] == '2018-12-28']"
      ],
      "metadata": {
        "colab": {
          "base_uri": "https://localhost:8080/"
        },
        "id": "Wg_bypyRkf71",
        "outputId": "97e3922c-b8b5-4df8-f33c-f6885bcf375b"
      },
      "execution_count": null,
      "outputs": [
        {
          "output_type": "execute_result",
          "data": {
            "text/plain": [
              "(752    49.740002\n",
              " Name: CVC, dtype: float64, 994    61.18\n",
              " Name: CVC, dtype: float64)"
            ]
          },
          "metadata": {},
          "execution_count": 14
        }
      ]
    },
    {
      "cell_type": "code",
      "source": [
        "#Taxa logaritimica\n",
        "np.log(61.18 / 49.74) * 100"
      ],
      "metadata": {
        "colab": {
          "base_uri": "https://localhost:8080/"
        },
        "id": "FHg532Gjko5_",
        "outputId": "1f9b9e58-3ae7-44a1-e8b1-ff7b50b3307d"
      },
      "execution_count": null,
      "outputs": [
        {
          "output_type": "execute_result",
          "data": {
            "text/plain": [
              "20.701090034749882"
            ]
          },
          "metadata": {},
          "execution_count": 15
        }
      ]
    },
    {
      "cell_type": "code",
      "source": [
        "dataset['MGLU'][dataset['Date'] == '2018-01-05'], dataset['MGLU'][dataset['Date'] == '2018-12-28']"
      ],
      "metadata": {
        "colab": {
          "base_uri": "https://localhost:8080/"
        },
        "id": "boXKDJmfkx8L",
        "outputId": "b3e99c1c-d865-4056-a332-84d2b9076c3f"
      },
      "execution_count": null,
      "outputs": [
        {
          "output_type": "execute_result",
          "data": {
            "text/plain": [
              "(752    2.45625\n",
              " Name: MGLU, dtype: float64, 994    5.658437\n",
              " Name: MGLU, dtype: float64)"
            ]
          },
          "metadata": {},
          "execution_count": 16
        }
      ]
    },
    {
      "cell_type": "code",
      "source": [
        "#Taxa logaritimica\n",
        "np.log(5.66 / 2.456) * 100"
      ],
      "metadata": {
        "colab": {
          "base_uri": "https://localhost:8080/"
        },
        "id": "X94-Covkk2HN",
        "outputId": "e755762a-a0f3-4945-ba92-b0e5e6397da3"
      },
      "execution_count": null,
      "outputs": [
        {
          "output_type": "execute_result",
          "data": {
            "text/plain": [
              "83.48898819301955"
            ]
          },
          "metadata": {},
          "execution_count": 17
        }
      ]
    },
    {
      "cell_type": "markdown",
      "source": [
        "Variância"
      ],
      "metadata": {
        "id": "VoBCmmcCdWV6"
      }
    },
    {
      "cell_type": "code",
      "source": [
        "taxas_cvc = np.array([-11.86, 63.97, 68.28, 20.7]) #Utiliza as taxas de retorno de cada ano"
      ],
      "metadata": {
        "id": "LdfcIKlodhka"
      },
      "execution_count": null,
      "outputs": []
    },
    {
      "cell_type": "code",
      "source": [
        "media_cvc = taxas_cvc.sum() / len(taxas_cvc) #Faz a média\n",
        "media_cvc"
      ],
      "metadata": {
        "colab": {
          "base_uri": "https://localhost:8080/"
        },
        "id": "ToxzW5med-pT",
        "outputId": "d4ec7c94-73bd-4cf0-e095-8b3a15842c78"
      },
      "execution_count": null,
      "outputs": [
        {
          "output_type": "execute_result",
          "data": {
            "text/plain": [
              "35.2725"
            ]
          },
          "metadata": {},
          "execution_count": 20
        }
      ]
    },
    {
      "cell_type": "code",
      "source": [
        "media_cvc = taxas_cvc.mean()\n",
        "media_cvc"
      ],
      "metadata": {
        "colab": {
          "base_uri": "https://localhost:8080/"
        },
        "id": "6dZ908jXekyW",
        "outputId": "1d792ddd-1733-4a5a-ce76-e19f803dea51"
      },
      "execution_count": null,
      "outputs": [
        {
          "output_type": "execute_result",
          "data": {
            "text/plain": [
              "35.2725"
            ]
          },
          "metadata": {},
          "execution_count": 23
        }
      ]
    },
    {
      "cell_type": "code",
      "source": [
        "((taxas_cvc - media_cvc) ** 2).sum() / len(taxas_cvc) #Cálculo da variância"
      ],
      "metadata": {
        "colab": {
          "base_uri": "https://localhost:8080/"
        },
        "id": "ZKMwtqMYeNLR",
        "outputId": "1ed0a1ee-e8f4-483f-9902-4463f080dc70"
      },
      "execution_count": null,
      "outputs": [
        {
          "output_type": "execute_result",
          "data": {
            "text/plain": [
              "1086.7179687500002"
            ]
          },
          "metadata": {},
          "execution_count": 22
        }
      ]
    },
    {
      "cell_type": "code",
      "source": [
        "variancia_cvc = taxas_cvc.var()\n",
        "variancia_cvc"
      ],
      "metadata": {
        "colab": {
          "base_uri": "https://localhost:8080/"
        },
        "id": "gBlbLjCBev2j",
        "outputId": "ae96aaa3-19da-4e6d-d9ab-611d592e8e2e"
      },
      "execution_count": null,
      "outputs": [
        {
          "output_type": "execute_result",
          "data": {
            "text/plain": [
              "1086.7179687500002"
            ]
          },
          "metadata": {},
          "execution_count": 24
        }
      ]
    },
    {
      "cell_type": "code",
      "source": [
        "#Agora da magalu\n",
        "taxas_mglu = np.array([125.28, 174.30, 189.71, 83.5])"
      ],
      "metadata": {
        "id": "-yZAXOkqe645"
      },
      "execution_count": null,
      "outputs": []
    },
    {
      "cell_type": "code",
      "source": [
        "variancia_mglu = taxas_mglu.var()\n",
        "variancia_mglu"
      ],
      "metadata": {
        "colab": {
          "base_uri": "https://localhost:8080/"
        },
        "id": "5uOb3uQAfTE8",
        "outputId": "591b140a-31e2-4f48-e16b-ec68e6883c31"
      },
      "execution_count": null,
      "outputs": [
        {
          "output_type": "execute_result",
          "data": {
            "text/plain": [
              "1753.9016187500004"
            ]
          },
          "metadata": {},
          "execution_count": 27
        }
      ]
    },
    {
      "cell_type": "code",
      "source": [
        "#MGLU possui maior risco pq tem uma variância maior"
      ],
      "metadata": {
        "id": "a_N09t3XfjZZ"
      },
      "execution_count": null,
      "outputs": []
    },
    {
      "cell_type": "code",
      "source": [
        "dataset['CVC'].tail(90).var(), dataset['MGLU'].tail(90).var() #Comparação entre as variancias das duas ações nos ultimos 30 dias"
      ],
      "metadata": {
        "colab": {
          "base_uri": "https://localhost:8080/"
        },
        "id": "76WuL_xCfv0N",
        "outputId": "1242dc60-235d-4321-c699-f18c5ba99db6"
      },
      "execution_count": null,
      "outputs": [
        {
          "output_type": "execute_result",
          "data": {
            "text/plain": [
              "(0.255481452926864, 0.7101888685738039)"
            ]
          },
          "metadata": {},
          "execution_count": 29
        }
      ]
    },
    {
      "cell_type": "markdown",
      "source": [
        "Desvio padrão"
      ],
      "metadata": {
        "id": "sIDYgadngWvz"
      }
    },
    {
      "cell_type": "code",
      "source": [
        "#Desvio padrão é a raiz quadrada da variância - Retorna a porcentagem da volatilidade\n",
        "desvio_padrao_cvc = math.sqrt(variancia_cvc)\n",
        "desvio_padrao_cvc"
      ],
      "metadata": {
        "colab": {
          "base_uri": "https://localhost:8080/"
        },
        "id": "1zyOt1HugZLS",
        "outputId": "cf4338c9-d2d9-4718-de1c-e90215ea2cbf"
      },
      "execution_count": null,
      "outputs": [
        {
          "output_type": "execute_result",
          "data": {
            "text/plain": [
              "32.96540563606036"
            ]
          },
          "metadata": {},
          "execution_count": 33
        }
      ]
    },
    {
      "cell_type": "code",
      "source": [
        "taxas_cvc.std()"
      ],
      "metadata": {
        "colab": {
          "base_uri": "https://localhost:8080/"
        },
        "id": "UMEK8LuZg-Ag",
        "outputId": "808cf357-cd3c-4292-e760-5489e4e2dd65"
      },
      "execution_count": null,
      "outputs": [
        {
          "output_type": "execute_result",
          "data": {
            "text/plain": [
              "32.96540563606036"
            ]
          },
          "metadata": {},
          "execution_count": 34
        }
      ]
    },
    {
      "cell_type": "code",
      "source": [
        "desvio_padrao_mglu = math.sqrt(variancia_mglu)\n",
        "desvio_padrao_mglu"
      ],
      "metadata": {
        "colab": {
          "base_uri": "https://localhost:8080/"
        },
        "id": "gf2HP_5Ago04",
        "outputId": "3fa39348-6222-463d-8bd7-8a11c090d357"
      },
      "execution_count": null,
      "outputs": [
        {
          "output_type": "execute_result",
          "data": {
            "text/plain": [
              "41.87960862699173"
            ]
          },
          "metadata": {},
          "execution_count": 32
        }
      ]
    },
    {
      "cell_type": "code",
      "source": [
        "taxas_mglu.std()"
      ],
      "metadata": {
        "colab": {
          "base_uri": "https://localhost:8080/"
        },
        "id": "pBzABDZNhCoA",
        "outputId": "89c2bd81-5c1e-4e8a-b297-dfdabd3f3622"
      },
      "execution_count": null,
      "outputs": [
        {
          "output_type": "execute_result",
          "data": {
            "text/plain": [
              "41.87960862699173"
            ]
          },
          "metadata": {},
          "execution_count": 35
        }
      ]
    }
  ]
}